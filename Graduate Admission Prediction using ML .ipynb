{
 "cells": [
  {
   "cell_type": "code",
   "execution_count": 1,
   "id": "51c69a1c",
   "metadata": {},
   "outputs": [],
   "source": [
    "import pandas as pd "
   ]
  },
  {
   "cell_type": "code",
   "execution_count": 2,
   "id": "34b97519",
   "metadata": {},
   "outputs": [],
   "source": [
    "data=pd.read_csv('Admission_Predict.csv')"
   ]
  },
  {
   "cell_type": "markdown",
   "id": "62e118dd",
   "metadata": {},
   "source": [
    "# 1. Display Top 5 Rows of The Dataset"
   ]
  },
  {
   "cell_type": "code",
   "execution_count": 3,
   "id": "de5c98a9",
   "metadata": {},
   "outputs": [
    {
     "data": {
      "text/html": [
       "<div>\n",
       "<style scoped>\n",
       "    .dataframe tbody tr th:only-of-type {\n",
       "        vertical-align: middle;\n",
       "    }\n",
       "\n",
       "    .dataframe tbody tr th {\n",
       "        vertical-align: top;\n",
       "    }\n",
       "\n",
       "    .dataframe thead th {\n",
       "        text-align: right;\n",
       "    }\n",
       "</style>\n",
       "<table border=\"1\" class=\"dataframe\">\n",
       "  <thead>\n",
       "    <tr style=\"text-align: right;\">\n",
       "      <th></th>\n",
       "      <th>Serial No.</th>\n",
       "      <th>GRE Score</th>\n",
       "      <th>TOEFL Score</th>\n",
       "      <th>University Rating</th>\n",
       "      <th>SOP</th>\n",
       "      <th>LOR</th>\n",
       "      <th>CGPA</th>\n",
       "      <th>Research</th>\n",
       "      <th>Chance of Admit</th>\n",
       "    </tr>\n",
       "  </thead>\n",
       "  <tbody>\n",
       "    <tr>\n",
       "      <th>0</th>\n",
       "      <td>1</td>\n",
       "      <td>337</td>\n",
       "      <td>118</td>\n",
       "      <td>4</td>\n",
       "      <td>4.5</td>\n",
       "      <td>4.5</td>\n",
       "      <td>9.65</td>\n",
       "      <td>1</td>\n",
       "      <td>0.92</td>\n",
       "    </tr>\n",
       "    <tr>\n",
       "      <th>1</th>\n",
       "      <td>2</td>\n",
       "      <td>324</td>\n",
       "      <td>107</td>\n",
       "      <td>4</td>\n",
       "      <td>4.0</td>\n",
       "      <td>4.5</td>\n",
       "      <td>8.87</td>\n",
       "      <td>1</td>\n",
       "      <td>0.76</td>\n",
       "    </tr>\n",
       "    <tr>\n",
       "      <th>2</th>\n",
       "      <td>3</td>\n",
       "      <td>316</td>\n",
       "      <td>104</td>\n",
       "      <td>3</td>\n",
       "      <td>3.0</td>\n",
       "      <td>3.5</td>\n",
       "      <td>8.00</td>\n",
       "      <td>1</td>\n",
       "      <td>0.72</td>\n",
       "    </tr>\n",
       "    <tr>\n",
       "      <th>3</th>\n",
       "      <td>4</td>\n",
       "      <td>322</td>\n",
       "      <td>110</td>\n",
       "      <td>3</td>\n",
       "      <td>3.5</td>\n",
       "      <td>2.5</td>\n",
       "      <td>8.67</td>\n",
       "      <td>1</td>\n",
       "      <td>0.80</td>\n",
       "    </tr>\n",
       "    <tr>\n",
       "      <th>4</th>\n",
       "      <td>5</td>\n",
       "      <td>314</td>\n",
       "      <td>103</td>\n",
       "      <td>2</td>\n",
       "      <td>2.0</td>\n",
       "      <td>3.0</td>\n",
       "      <td>8.21</td>\n",
       "      <td>0</td>\n",
       "      <td>0.65</td>\n",
       "    </tr>\n",
       "  </tbody>\n",
       "</table>\n",
       "</div>"
      ],
      "text/plain": [
       "   Serial No.  GRE Score  TOEFL Score  University Rating  SOP  LOR   CGPA  \\\n",
       "0           1        337          118                  4  4.5   4.5  9.65   \n",
       "1           2        324          107                  4  4.0   4.5  8.87   \n",
       "2           3        316          104                  3  3.0   3.5  8.00   \n",
       "3           4        322          110                  3  3.5   2.5  8.67   \n",
       "4           5        314          103                  2  2.0   3.0  8.21   \n",
       "\n",
       "   Research  Chance of Admit   \n",
       "0         1              0.92  \n",
       "1         1              0.76  \n",
       "2         1              0.72  \n",
       "3         1              0.80  \n",
       "4         0              0.65  "
      ]
     },
     "execution_count": 3,
     "metadata": {},
     "output_type": "execute_result"
    }
   ],
   "source": [
    "data.head(5)"
   ]
  },
  {
   "cell_type": "markdown",
   "id": "3a2f647f",
   "metadata": {},
   "source": [
    "# 2. Check Last 5 Rows of The Dataset"
   ]
  },
  {
   "cell_type": "code",
   "execution_count": 4,
   "id": "fc994f82",
   "metadata": {},
   "outputs": [
    {
     "data": {
      "text/html": [
       "<div>\n",
       "<style scoped>\n",
       "    .dataframe tbody tr th:only-of-type {\n",
       "        vertical-align: middle;\n",
       "    }\n",
       "\n",
       "    .dataframe tbody tr th {\n",
       "        vertical-align: top;\n",
       "    }\n",
       "\n",
       "    .dataframe thead th {\n",
       "        text-align: right;\n",
       "    }\n",
       "</style>\n",
       "<table border=\"1\" class=\"dataframe\">\n",
       "  <thead>\n",
       "    <tr style=\"text-align: right;\">\n",
       "      <th></th>\n",
       "      <th>Serial No.</th>\n",
       "      <th>GRE Score</th>\n",
       "      <th>TOEFL Score</th>\n",
       "      <th>University Rating</th>\n",
       "      <th>SOP</th>\n",
       "      <th>LOR</th>\n",
       "      <th>CGPA</th>\n",
       "      <th>Research</th>\n",
       "      <th>Chance of Admit</th>\n",
       "    </tr>\n",
       "  </thead>\n",
       "  <tbody>\n",
       "    <tr>\n",
       "      <th>395</th>\n",
       "      <td>396</td>\n",
       "      <td>324</td>\n",
       "      <td>110</td>\n",
       "      <td>3</td>\n",
       "      <td>3.5</td>\n",
       "      <td>3.5</td>\n",
       "      <td>9.04</td>\n",
       "      <td>1</td>\n",
       "      <td>0.82</td>\n",
       "    </tr>\n",
       "    <tr>\n",
       "      <th>396</th>\n",
       "      <td>397</td>\n",
       "      <td>325</td>\n",
       "      <td>107</td>\n",
       "      <td>3</td>\n",
       "      <td>3.0</td>\n",
       "      <td>3.5</td>\n",
       "      <td>9.11</td>\n",
       "      <td>1</td>\n",
       "      <td>0.84</td>\n",
       "    </tr>\n",
       "    <tr>\n",
       "      <th>397</th>\n",
       "      <td>398</td>\n",
       "      <td>330</td>\n",
       "      <td>116</td>\n",
       "      <td>4</td>\n",
       "      <td>5.0</td>\n",
       "      <td>4.5</td>\n",
       "      <td>9.45</td>\n",
       "      <td>1</td>\n",
       "      <td>0.91</td>\n",
       "    </tr>\n",
       "    <tr>\n",
       "      <th>398</th>\n",
       "      <td>399</td>\n",
       "      <td>312</td>\n",
       "      <td>103</td>\n",
       "      <td>3</td>\n",
       "      <td>3.5</td>\n",
       "      <td>4.0</td>\n",
       "      <td>8.78</td>\n",
       "      <td>0</td>\n",
       "      <td>0.67</td>\n",
       "    </tr>\n",
       "    <tr>\n",
       "      <th>399</th>\n",
       "      <td>400</td>\n",
       "      <td>333</td>\n",
       "      <td>117</td>\n",
       "      <td>4</td>\n",
       "      <td>5.0</td>\n",
       "      <td>4.0</td>\n",
       "      <td>9.66</td>\n",
       "      <td>1</td>\n",
       "      <td>0.95</td>\n",
       "    </tr>\n",
       "  </tbody>\n",
       "</table>\n",
       "</div>"
      ],
      "text/plain": [
       "     Serial No.  GRE Score  TOEFL Score  University Rating  SOP  LOR   CGPA  \\\n",
       "395         396        324          110                  3  3.5   3.5  9.04   \n",
       "396         397        325          107                  3  3.0   3.5  9.11   \n",
       "397         398        330          116                  4  5.0   4.5  9.45   \n",
       "398         399        312          103                  3  3.5   4.0  8.78   \n",
       "399         400        333          117                  4  5.0   4.0  9.66   \n",
       "\n",
       "     Research  Chance of Admit   \n",
       "395         1              0.82  \n",
       "396         1              0.84  \n",
       "397         1              0.91  \n",
       "398         0              0.67  \n",
       "399         1              0.95  "
      ]
     },
     "execution_count": 4,
     "metadata": {},
     "output_type": "execute_result"
    }
   ],
   "source": [
    "data.tail(5)"
   ]
  },
  {
   "cell_type": "markdown",
   "id": "4d5b9e0f",
   "metadata": {},
   "source": [
    "# 3. Find Shape of Our Dataset (Number of Rows And Number of Columns)"
   ]
  },
  {
   "cell_type": "code",
   "execution_count": 5,
   "id": "a77e5364",
   "metadata": {},
   "outputs": [
    {
     "data": {
      "text/plain": [
       "(400, 9)"
      ]
     },
     "execution_count": 5,
     "metadata": {},
     "output_type": "execute_result"
    }
   ],
   "source": [
    "data.shape\n"
   ]
  },
  {
   "cell_type": "code",
   "execution_count": 6,
   "id": "ea490e7d",
   "metadata": {},
   "outputs": [
    {
     "name": "stdout",
     "output_type": "stream",
     "text": [
      "Number of Rows  400\n",
      "Number of Columns  9\n"
     ]
    }
   ],
   "source": [
    "print(\"Number of Rows \" , data.shape[0])\n",
    "print(\"Number of Columns \" , data.shape[1])"
   ]
  },
  {
   "cell_type": "markdown",
   "id": "d1a56ccc",
   "metadata": {},
   "source": [
    "# 4. Get Information About Our Dataset Like Total Number Rows, Total Number of Columns, Datatypes of Each Column And Memory Requirement"
   ]
  },
  {
   "cell_type": "code",
   "execution_count": 7,
   "id": "5d3581e8",
   "metadata": {},
   "outputs": [
    {
     "name": "stdout",
     "output_type": "stream",
     "text": [
      "<class 'pandas.core.frame.DataFrame'>\n",
      "RangeIndex: 400 entries, 0 to 399\n",
      "Data columns (total 9 columns):\n",
      " #   Column             Non-Null Count  Dtype  \n",
      "---  ------             --------------  -----  \n",
      " 0   Serial No.         400 non-null    int64  \n",
      " 1   GRE Score          400 non-null    int64  \n",
      " 2   TOEFL Score        400 non-null    int64  \n",
      " 3   University Rating  400 non-null    int64  \n",
      " 4   SOP                400 non-null    float64\n",
      " 5   LOR                400 non-null    float64\n",
      " 6   CGPA               400 non-null    float64\n",
      " 7   Research           400 non-null    int64  \n",
      " 8   Chance of Admit    400 non-null    float64\n",
      "dtypes: float64(4), int64(5)\n",
      "memory usage: 28.2 KB\n"
     ]
    }
   ],
   "source": [
    "data.info()"
   ]
  },
  {
   "cell_type": "markdown",
   "id": "dcba452a",
   "metadata": {},
   "source": [
    "# 5. Check Null Values In The Dataset"
   ]
  },
  {
   "cell_type": "code",
   "execution_count": 8,
   "id": "651fc717",
   "metadata": {},
   "outputs": [
    {
     "data": {
      "text/plain": [
       "Serial No.           0\n",
       "GRE Score            0\n",
       "TOEFL Score          0\n",
       "University Rating    0\n",
       "SOP                  0\n",
       "LOR                  0\n",
       "CGPA                 0\n",
       "Research             0\n",
       "Chance of Admit      0\n",
       "dtype: int64"
      ]
     },
     "execution_count": 8,
     "metadata": {},
     "output_type": "execute_result"
    }
   ],
   "source": [
    "data.isnull().sum()"
   ]
  },
  {
   "cell_type": "markdown",
   "id": "3ed28ece",
   "metadata": {},
   "source": [
    "# 6. Get Overall Statistics About The Dataset"
   ]
  },
  {
   "cell_type": "code",
   "execution_count": 9,
   "id": "39841991",
   "metadata": {},
   "outputs": [
    {
     "data": {
      "text/html": [
       "<div>\n",
       "<style scoped>\n",
       "    .dataframe tbody tr th:only-of-type {\n",
       "        vertical-align: middle;\n",
       "    }\n",
       "\n",
       "    .dataframe tbody tr th {\n",
       "        vertical-align: top;\n",
       "    }\n",
       "\n",
       "    .dataframe thead th {\n",
       "        text-align: right;\n",
       "    }\n",
       "</style>\n",
       "<table border=\"1\" class=\"dataframe\">\n",
       "  <thead>\n",
       "    <tr style=\"text-align: right;\">\n",
       "      <th></th>\n",
       "      <th>Serial No.</th>\n",
       "      <th>GRE Score</th>\n",
       "      <th>TOEFL Score</th>\n",
       "      <th>University Rating</th>\n",
       "      <th>SOP</th>\n",
       "      <th>LOR</th>\n",
       "      <th>CGPA</th>\n",
       "      <th>Research</th>\n",
       "      <th>Chance of Admit</th>\n",
       "    </tr>\n",
       "  </thead>\n",
       "  <tbody>\n",
       "    <tr>\n",
       "      <th>count</th>\n",
       "      <td>400.000000</td>\n",
       "      <td>400.000000</td>\n",
       "      <td>400.000000</td>\n",
       "      <td>400.000000</td>\n",
       "      <td>400.000000</td>\n",
       "      <td>400.000000</td>\n",
       "      <td>400.000000</td>\n",
       "      <td>400.000000</td>\n",
       "      <td>400.000000</td>\n",
       "    </tr>\n",
       "    <tr>\n",
       "      <th>mean</th>\n",
       "      <td>200.500000</td>\n",
       "      <td>316.807500</td>\n",
       "      <td>107.410000</td>\n",
       "      <td>3.087500</td>\n",
       "      <td>3.400000</td>\n",
       "      <td>3.452500</td>\n",
       "      <td>8.598925</td>\n",
       "      <td>0.547500</td>\n",
       "      <td>0.724350</td>\n",
       "    </tr>\n",
       "    <tr>\n",
       "      <th>std</th>\n",
       "      <td>115.614301</td>\n",
       "      <td>11.473646</td>\n",
       "      <td>6.069514</td>\n",
       "      <td>1.143728</td>\n",
       "      <td>1.006869</td>\n",
       "      <td>0.898478</td>\n",
       "      <td>0.596317</td>\n",
       "      <td>0.498362</td>\n",
       "      <td>0.142609</td>\n",
       "    </tr>\n",
       "    <tr>\n",
       "      <th>min</th>\n",
       "      <td>1.000000</td>\n",
       "      <td>290.000000</td>\n",
       "      <td>92.000000</td>\n",
       "      <td>1.000000</td>\n",
       "      <td>1.000000</td>\n",
       "      <td>1.000000</td>\n",
       "      <td>6.800000</td>\n",
       "      <td>0.000000</td>\n",
       "      <td>0.340000</td>\n",
       "    </tr>\n",
       "    <tr>\n",
       "      <th>25%</th>\n",
       "      <td>100.750000</td>\n",
       "      <td>308.000000</td>\n",
       "      <td>103.000000</td>\n",
       "      <td>2.000000</td>\n",
       "      <td>2.500000</td>\n",
       "      <td>3.000000</td>\n",
       "      <td>8.170000</td>\n",
       "      <td>0.000000</td>\n",
       "      <td>0.640000</td>\n",
       "    </tr>\n",
       "    <tr>\n",
       "      <th>50%</th>\n",
       "      <td>200.500000</td>\n",
       "      <td>317.000000</td>\n",
       "      <td>107.000000</td>\n",
       "      <td>3.000000</td>\n",
       "      <td>3.500000</td>\n",
       "      <td>3.500000</td>\n",
       "      <td>8.610000</td>\n",
       "      <td>1.000000</td>\n",
       "      <td>0.730000</td>\n",
       "    </tr>\n",
       "    <tr>\n",
       "      <th>75%</th>\n",
       "      <td>300.250000</td>\n",
       "      <td>325.000000</td>\n",
       "      <td>112.000000</td>\n",
       "      <td>4.000000</td>\n",
       "      <td>4.000000</td>\n",
       "      <td>4.000000</td>\n",
       "      <td>9.062500</td>\n",
       "      <td>1.000000</td>\n",
       "      <td>0.830000</td>\n",
       "    </tr>\n",
       "    <tr>\n",
       "      <th>max</th>\n",
       "      <td>400.000000</td>\n",
       "      <td>340.000000</td>\n",
       "      <td>120.000000</td>\n",
       "      <td>5.000000</td>\n",
       "      <td>5.000000</td>\n",
       "      <td>5.000000</td>\n",
       "      <td>9.920000</td>\n",
       "      <td>1.000000</td>\n",
       "      <td>0.970000</td>\n",
       "    </tr>\n",
       "  </tbody>\n",
       "</table>\n",
       "</div>"
      ],
      "text/plain": [
       "       Serial No.   GRE Score  TOEFL Score  University Rating         SOP  \\\n",
       "count  400.000000  400.000000   400.000000         400.000000  400.000000   \n",
       "mean   200.500000  316.807500   107.410000           3.087500    3.400000   \n",
       "std    115.614301   11.473646     6.069514           1.143728    1.006869   \n",
       "min      1.000000  290.000000    92.000000           1.000000    1.000000   \n",
       "25%    100.750000  308.000000   103.000000           2.000000    2.500000   \n",
       "50%    200.500000  317.000000   107.000000           3.000000    3.500000   \n",
       "75%    300.250000  325.000000   112.000000           4.000000    4.000000   \n",
       "max    400.000000  340.000000   120.000000           5.000000    5.000000   \n",
       "\n",
       "             LOR         CGPA    Research  Chance of Admit   \n",
       "count  400.000000  400.000000  400.000000        400.000000  \n",
       "mean     3.452500    8.598925    0.547500          0.724350  \n",
       "std      0.898478    0.596317    0.498362          0.142609  \n",
       "min      1.000000    6.800000    0.000000          0.340000  \n",
       "25%      3.000000    8.170000    0.000000          0.640000  \n",
       "50%      3.500000    8.610000    1.000000          0.730000  \n",
       "75%      4.000000    9.062500    1.000000          0.830000  \n",
       "max      5.000000    9.920000    1.000000          0.970000  "
      ]
     },
     "execution_count": 9,
     "metadata": {},
     "output_type": "execute_result"
    }
   ],
   "source": [
    "data.describe()"
   ]
  },
  {
   "cell_type": "markdown",
   "id": "ed4f6078",
   "metadata": {},
   "source": [
    "# 7. Dropping Irrelevant Features"
   ]
  },
  {
   "cell_type": "code",
   "execution_count": 10,
   "id": "38a75307",
   "metadata": {},
   "outputs": [
    {
     "data": {
      "text/plain": [
       "Index(['Serial No.', 'GRE Score', 'TOEFL Score', 'University Rating', 'SOP',\n",
       "       'LOR ', 'CGPA', 'Research', 'Chance of Admit '],\n",
       "      dtype='object')"
      ]
     },
     "execution_count": 10,
     "metadata": {},
     "output_type": "execute_result"
    }
   ],
   "source": [
    "data.columns"
   ]
  },
  {
   "cell_type": "code",
   "execution_count": 11,
   "id": "cb52ba57",
   "metadata": {},
   "outputs": [],
   "source": [
    "data=data.drop('Serial No.' , axis=1)"
   ]
  },
  {
   "cell_type": "code",
   "execution_count": 12,
   "id": "8d5a7a4a",
   "metadata": {},
   "outputs": [
    {
     "data": {
      "text/plain": [
       "Index(['GRE Score', 'TOEFL Score', 'University Rating', 'SOP', 'LOR ', 'CGPA',\n",
       "       'Research', 'Chance of Admit '],\n",
       "      dtype='object')"
      ]
     },
     "execution_count": 12,
     "metadata": {},
     "output_type": "execute_result"
    }
   ],
   "source": [
    "data.columns"
   ]
  },
  {
   "cell_type": "code",
   "execution_count": 13,
   "id": "0cec55a8",
   "metadata": {},
   "outputs": [
    {
     "name": "stdout",
     "output_type": "stream",
     "text": [
      "<class 'pandas.core.frame.DataFrame'>\n",
      "RangeIndex: 400 entries, 0 to 399\n",
      "Data columns (total 8 columns):\n",
      " #   Column             Non-Null Count  Dtype  \n",
      "---  ------             --------------  -----  \n",
      " 0   GRE Score          400 non-null    int64  \n",
      " 1   TOEFL Score        400 non-null    int64  \n",
      " 2   University Rating  400 non-null    int64  \n",
      " 3   SOP                400 non-null    float64\n",
      " 4   LOR                400 non-null    float64\n",
      " 5   CGPA               400 non-null    float64\n",
      " 6   Research           400 non-null    int64  \n",
      " 7   Chance of Admit    400 non-null    float64\n",
      "dtypes: float64(4), int64(4)\n",
      "memory usage: 25.1 KB\n"
     ]
    }
   ],
   "source": [
    "data.info()"
   ]
  },
  {
   "cell_type": "code",
   "execution_count": null,
   "id": "96f1cf38",
   "metadata": {},
   "outputs": [],
   "source": []
  },
  {
   "cell_type": "markdown",
   "id": "23946e9b",
   "metadata": {},
   "source": [
    "# 8. Store Feature Matrix In X and Response(Target) In Vector y"
   ]
  },
  {
   "cell_type": "code",
   "execution_count": 14,
   "id": "064a400a",
   "metadata": {},
   "outputs": [
    {
     "data": {
      "text/html": [
       "<div>\n",
       "<style scoped>\n",
       "    .dataframe tbody tr th:only-of-type {\n",
       "        vertical-align: middle;\n",
       "    }\n",
       "\n",
       "    .dataframe tbody tr th {\n",
       "        vertical-align: top;\n",
       "    }\n",
       "\n",
       "    .dataframe thead th {\n",
       "        text-align: right;\n",
       "    }\n",
       "</style>\n",
       "<table border=\"1\" class=\"dataframe\">\n",
       "  <thead>\n",
       "    <tr style=\"text-align: right;\">\n",
       "      <th></th>\n",
       "      <th>GRE Score</th>\n",
       "      <th>TOEFL Score</th>\n",
       "      <th>University Rating</th>\n",
       "      <th>SOP</th>\n",
       "      <th>LOR</th>\n",
       "      <th>CGPA</th>\n",
       "      <th>Research</th>\n",
       "      <th>Chance of Admit</th>\n",
       "    </tr>\n",
       "  </thead>\n",
       "  <tbody>\n",
       "    <tr>\n",
       "      <th>0</th>\n",
       "      <td>337</td>\n",
       "      <td>118</td>\n",
       "      <td>4</td>\n",
       "      <td>4.5</td>\n",
       "      <td>4.5</td>\n",
       "      <td>9.65</td>\n",
       "      <td>1</td>\n",
       "      <td>0.92</td>\n",
       "    </tr>\n",
       "  </tbody>\n",
       "</table>\n",
       "</div>"
      ],
      "text/plain": [
       "   GRE Score  TOEFL Score  University Rating  SOP  LOR   CGPA  Research  \\\n",
       "0        337          118                  4  4.5   4.5  9.65         1   \n",
       "\n",
       "   Chance of Admit   \n",
       "0              0.92  "
      ]
     },
     "execution_count": 14,
     "metadata": {},
     "output_type": "execute_result"
    }
   ],
   "source": [
    "data.head(1)"
   ]
  },
  {
   "cell_type": "code",
   "execution_count": 15,
   "id": "b61e859b",
   "metadata": {},
   "outputs": [
    {
     "data": {
      "text/plain": [
       "Index(['GRE Score', 'TOEFL Score', 'University Rating', 'SOP', 'LOR ', 'CGPA',\n",
       "       'Research', 'Chance of Admit '],\n",
       "      dtype='object')"
      ]
     },
     "execution_count": 15,
     "metadata": {},
     "output_type": "execute_result"
    }
   ],
   "source": [
    "data.columns"
   ]
  },
  {
   "cell_type": "code",
   "execution_count": 16,
   "id": "67a9427c",
   "metadata": {},
   "outputs": [],
   "source": [
    "X=data.drop('Chance of Admit ',axis=1)"
   ]
  },
  {
   "cell_type": "code",
   "execution_count": 17,
   "id": "68eb4985",
   "metadata": {},
   "outputs": [],
   "source": [
    "y=data['Chance of Admit ']"
   ]
  },
  {
   "cell_type": "code",
   "execution_count": 18,
   "id": "837c6b9e",
   "metadata": {},
   "outputs": [
    {
     "data": {
      "text/plain": [
       "0      0.92\n",
       "1      0.76\n",
       "2      0.72\n",
       "3      0.80\n",
       "4      0.65\n",
       "       ... \n",
       "395    0.82\n",
       "396    0.84\n",
       "397    0.91\n",
       "398    0.67\n",
       "399    0.95\n",
       "Name: Chance of Admit , Length: 400, dtype: float64"
      ]
     },
     "execution_count": 18,
     "metadata": {},
     "output_type": "execute_result"
    }
   ],
   "source": [
    "y"
   ]
  },
  {
   "cell_type": "markdown",
   "id": "d379c7b7",
   "metadata": {},
   "source": [
    "# 9. Splitting The Dataset Into The Training Set And Test Set"
   ]
  },
  {
   "cell_type": "code",
   "execution_count": 19,
   "id": "5f9b7bda",
   "metadata": {},
   "outputs": [],
   "source": [
    "from sklearn.model_selection import train_test_split"
   ]
  },
  {
   "cell_type": "code",
   "execution_count": 20,
   "id": "c2953b57",
   "metadata": {},
   "outputs": [],
   "source": [
    "X_train , X_test , y_train, y_test =train_test_split(X,y , test_size=0.20 , random_state=42)"
   ]
  },
  {
   "cell_type": "code",
   "execution_count": 21,
   "id": "bb155069",
   "metadata": {},
   "outputs": [
    {
     "data": {
      "text/html": [
       "<div>\n",
       "<style scoped>\n",
       "    .dataframe tbody tr th:only-of-type {\n",
       "        vertical-align: middle;\n",
       "    }\n",
       "\n",
       "    .dataframe tbody tr th {\n",
       "        vertical-align: top;\n",
       "    }\n",
       "\n",
       "    .dataframe thead th {\n",
       "        text-align: right;\n",
       "    }\n",
       "</style>\n",
       "<table border=\"1\" class=\"dataframe\">\n",
       "  <thead>\n",
       "    <tr style=\"text-align: right;\">\n",
       "      <th></th>\n",
       "      <th>GRE Score</th>\n",
       "      <th>TOEFL Score</th>\n",
       "      <th>University Rating</th>\n",
       "      <th>SOP</th>\n",
       "      <th>LOR</th>\n",
       "      <th>CGPA</th>\n",
       "      <th>Research</th>\n",
       "    </tr>\n",
       "  </thead>\n",
       "  <tbody>\n",
       "    <tr>\n",
       "      <th>3</th>\n",
       "      <td>322</td>\n",
       "      <td>110</td>\n",
       "      <td>3</td>\n",
       "      <td>3.5</td>\n",
       "      <td>2.5</td>\n",
       "      <td>8.67</td>\n",
       "      <td>1</td>\n",
       "    </tr>\n",
       "    <tr>\n",
       "      <th>18</th>\n",
       "      <td>318</td>\n",
       "      <td>110</td>\n",
       "      <td>3</td>\n",
       "      <td>4.0</td>\n",
       "      <td>3.0</td>\n",
       "      <td>8.80</td>\n",
       "      <td>0</td>\n",
       "    </tr>\n",
       "    <tr>\n",
       "      <th>202</th>\n",
       "      <td>340</td>\n",
       "      <td>120</td>\n",
       "      <td>5</td>\n",
       "      <td>4.5</td>\n",
       "      <td>4.5</td>\n",
       "      <td>9.91</td>\n",
       "      <td>1</td>\n",
       "    </tr>\n",
       "    <tr>\n",
       "      <th>250</th>\n",
       "      <td>320</td>\n",
       "      <td>104</td>\n",
       "      <td>3</td>\n",
       "      <td>3.0</td>\n",
       "      <td>2.5</td>\n",
       "      <td>8.57</td>\n",
       "      <td>1</td>\n",
       "    </tr>\n",
       "    <tr>\n",
       "      <th>274</th>\n",
       "      <td>315</td>\n",
       "      <td>100</td>\n",
       "      <td>1</td>\n",
       "      <td>2.0</td>\n",
       "      <td>2.5</td>\n",
       "      <td>7.95</td>\n",
       "      <td>0</td>\n",
       "    </tr>\n",
       "    <tr>\n",
       "      <th>...</th>\n",
       "      <td>...</td>\n",
       "      <td>...</td>\n",
       "      <td>...</td>\n",
       "      <td>...</td>\n",
       "      <td>...</td>\n",
       "      <td>...</td>\n",
       "      <td>...</td>\n",
       "    </tr>\n",
       "    <tr>\n",
       "      <th>71</th>\n",
       "      <td>336</td>\n",
       "      <td>112</td>\n",
       "      <td>5</td>\n",
       "      <td>5.0</td>\n",
       "      <td>5.0</td>\n",
       "      <td>9.76</td>\n",
       "      <td>1</td>\n",
       "    </tr>\n",
       "    <tr>\n",
       "      <th>106</th>\n",
       "      <td>329</td>\n",
       "      <td>111</td>\n",
       "      <td>4</td>\n",
       "      <td>4.5</td>\n",
       "      <td>4.5</td>\n",
       "      <td>9.18</td>\n",
       "      <td>1</td>\n",
       "    </tr>\n",
       "    <tr>\n",
       "      <th>270</th>\n",
       "      <td>306</td>\n",
       "      <td>105</td>\n",
       "      <td>2</td>\n",
       "      <td>2.5</td>\n",
       "      <td>3.0</td>\n",
       "      <td>8.22</td>\n",
       "      <td>1</td>\n",
       "    </tr>\n",
       "    <tr>\n",
       "      <th>348</th>\n",
       "      <td>302</td>\n",
       "      <td>99</td>\n",
       "      <td>1</td>\n",
       "      <td>2.0</td>\n",
       "      <td>2.0</td>\n",
       "      <td>7.25</td>\n",
       "      <td>0</td>\n",
       "    </tr>\n",
       "    <tr>\n",
       "      <th>102</th>\n",
       "      <td>314</td>\n",
       "      <td>106</td>\n",
       "      <td>2</td>\n",
       "      <td>4.0</td>\n",
       "      <td>3.5</td>\n",
       "      <td>8.25</td>\n",
       "      <td>0</td>\n",
       "    </tr>\n",
       "  </tbody>\n",
       "</table>\n",
       "<p>320 rows × 7 columns</p>\n",
       "</div>"
      ],
      "text/plain": [
       "     GRE Score  TOEFL Score  University Rating  SOP  LOR   CGPA  Research\n",
       "3          322          110                  3  3.5   2.5  8.67         1\n",
       "18         318          110                  3  4.0   3.0  8.80         0\n",
       "202        340          120                  5  4.5   4.5  9.91         1\n",
       "250        320          104                  3  3.0   2.5  8.57         1\n",
       "274        315          100                  1  2.0   2.5  7.95         0\n",
       "..         ...          ...                ...  ...   ...   ...       ...\n",
       "71         336          112                  5  5.0   5.0  9.76         1\n",
       "106        329          111                  4  4.5   4.5  9.18         1\n",
       "270        306          105                  2  2.5   3.0  8.22         1\n",
       "348        302           99                  1  2.0   2.0  7.25         0\n",
       "102        314          106                  2  4.0   3.5  8.25         0\n",
       "\n",
       "[320 rows x 7 columns]"
      ]
     },
     "execution_count": 21,
     "metadata": {},
     "output_type": "execute_result"
    }
   ],
   "source": [
    "X_train"
   ]
  },
  {
   "cell_type": "markdown",
   "id": "6454080e",
   "metadata": {},
   "source": [
    "\n",
    "# 10. Feature Scaling"
   ]
  },
  {
   "cell_type": "code",
   "execution_count": 22,
   "id": "2b0ac50a",
   "metadata": {},
   "outputs": [
    {
     "data": {
      "text/html": [
       "<div>\n",
       "<style scoped>\n",
       "    .dataframe tbody tr th:only-of-type {\n",
       "        vertical-align: middle;\n",
       "    }\n",
       "\n",
       "    .dataframe tbody tr th {\n",
       "        vertical-align: top;\n",
       "    }\n",
       "\n",
       "    .dataframe thead th {\n",
       "        text-align: right;\n",
       "    }\n",
       "</style>\n",
       "<table border=\"1\" class=\"dataframe\">\n",
       "  <thead>\n",
       "    <tr style=\"text-align: right;\">\n",
       "      <th></th>\n",
       "      <th>GRE Score</th>\n",
       "      <th>TOEFL Score</th>\n",
       "      <th>University Rating</th>\n",
       "      <th>SOP</th>\n",
       "      <th>LOR</th>\n",
       "      <th>CGPA</th>\n",
       "      <th>Research</th>\n",
       "      <th>Chance of Admit</th>\n",
       "    </tr>\n",
       "  </thead>\n",
       "  <tbody>\n",
       "    <tr>\n",
       "      <th>0</th>\n",
       "      <td>337</td>\n",
       "      <td>118</td>\n",
       "      <td>4</td>\n",
       "      <td>4.5</td>\n",
       "      <td>4.5</td>\n",
       "      <td>9.65</td>\n",
       "      <td>1</td>\n",
       "      <td>0.92</td>\n",
       "    </tr>\n",
       "    <tr>\n",
       "      <th>1</th>\n",
       "      <td>324</td>\n",
       "      <td>107</td>\n",
       "      <td>4</td>\n",
       "      <td>4.0</td>\n",
       "      <td>4.5</td>\n",
       "      <td>8.87</td>\n",
       "      <td>1</td>\n",
       "      <td>0.76</td>\n",
       "    </tr>\n",
       "    <tr>\n",
       "      <th>2</th>\n",
       "      <td>316</td>\n",
       "      <td>104</td>\n",
       "      <td>3</td>\n",
       "      <td>3.0</td>\n",
       "      <td>3.5</td>\n",
       "      <td>8.00</td>\n",
       "      <td>1</td>\n",
       "      <td>0.72</td>\n",
       "    </tr>\n",
       "    <tr>\n",
       "      <th>3</th>\n",
       "      <td>322</td>\n",
       "      <td>110</td>\n",
       "      <td>3</td>\n",
       "      <td>3.5</td>\n",
       "      <td>2.5</td>\n",
       "      <td>8.67</td>\n",
       "      <td>1</td>\n",
       "      <td>0.80</td>\n",
       "    </tr>\n",
       "    <tr>\n",
       "      <th>4</th>\n",
       "      <td>314</td>\n",
       "      <td>103</td>\n",
       "      <td>2</td>\n",
       "      <td>2.0</td>\n",
       "      <td>3.0</td>\n",
       "      <td>8.21</td>\n",
       "      <td>0</td>\n",
       "      <td>0.65</td>\n",
       "    </tr>\n",
       "  </tbody>\n",
       "</table>\n",
       "</div>"
      ],
      "text/plain": [
       "   GRE Score  TOEFL Score  University Rating  SOP  LOR   CGPA  Research  \\\n",
       "0        337          118                  4  4.5   4.5  9.65         1   \n",
       "1        324          107                  4  4.0   4.5  8.87         1   \n",
       "2        316          104                  3  3.0   3.5  8.00         1   \n",
       "3        322          110                  3  3.5   2.5  8.67         1   \n",
       "4        314          103                  2  2.0   3.0  8.21         0   \n",
       "\n",
       "   Chance of Admit   \n",
       "0              0.92  \n",
       "1              0.76  \n",
       "2              0.72  \n",
       "3              0.80  \n",
       "4              0.65  "
      ]
     },
     "execution_count": 22,
     "metadata": {},
     "output_type": "execute_result"
    }
   ],
   "source": [
    "data.head()"
   ]
  },
  {
   "cell_type": "code",
   "execution_count": 23,
   "id": "7d3791b9",
   "metadata": {},
   "outputs": [],
   "source": [
    "from sklearn.preprocessing import StandardScaler"
   ]
  },
  {
   "cell_type": "code",
   "execution_count": 24,
   "id": "99a9f2e4",
   "metadata": {},
   "outputs": [],
   "source": [
    "sc = StandardScaler()"
   ]
  },
  {
   "cell_type": "code",
   "execution_count": 25,
   "id": "0c681cd6",
   "metadata": {},
   "outputs": [],
   "source": [
    "X_train=sc.fit_transform(X_train)\n",
    "X_test=sc.transform(X_test)"
   ]
  },
  {
   "cell_type": "code",
   "execution_count": 26,
   "id": "71350391",
   "metadata": {},
   "outputs": [
    {
     "data": {
      "text/plain": [
       "array([[ 0.45711129,  0.42466178, -0.057308  , ..., -1.05965163,\n",
       "         0.13986648,  0.92761259],\n",
       "       [ 0.1022887 ,  0.42466178, -0.057308  , ..., -0.50194025,\n",
       "         0.36110014, -1.07803625],\n",
       "       [ 2.05381293,  2.08593034,  1.6892215 , ...,  1.17119391,\n",
       "         2.25009529,  0.92761259],\n",
       "       ...,\n",
       "       [-0.96217907, -0.40597251, -0.93057275, ..., -0.50194025,\n",
       "        -0.62594237,  0.92761259],\n",
       "       [-1.31700165, -1.40273364, -1.8038375 , ..., -1.61736302,\n",
       "        -2.27668588, -1.07803625],\n",
       "       [-0.25253389, -0.23984565, -0.93057275, ...,  0.05577114,\n",
       "        -0.57488845, -1.07803625]])"
      ]
     },
     "execution_count": 26,
     "metadata": {},
     "output_type": "execute_result"
    }
   ],
   "source": [
    "X_train"
   ]
  },
  {
   "cell_type": "code",
   "execution_count": 27,
   "id": "1d1d245f",
   "metadata": {},
   "outputs": [
    {
     "data": {
      "text/plain": [
       "array([[-1.4057073 , -0.57209936, -0.057308  ,  0.12715607,  0.61348253,\n",
       "        -0.79612211,  0.92761259],\n",
       "       [-0.51865083, -0.90435307, -0.057308  ,  1.10763663,  0.61348253,\n",
       "         0.08881255,  0.92761259],\n",
       "       [ 2.05381293,  1.0891692 ,  1.6892215 ,  0.61739635,  0.61348253,\n",
       "         1.72253809,  0.92761259],\n",
       "       [ 0.72322823,  0.09240806,  0.81595675,  1.10763663,  0.61348253,\n",
       "         0.80356748,  0.92761259],\n",
       "       [-1.4057073 , -1.73498736, -0.93057275, -0.36308421, -0.50194025,\n",
       "        -1.2045535 ,  0.92761259],\n",
       "       [ 2.05381293,  1.25529606,  1.6892215 ,  1.10763663,  1.17119391,\n",
       "         1.46726848,  0.92761259],\n",
       "       [-1.76052989, -1.90111421, -0.93057275, -0.85332449, -2.17507441,\n",
       "        -1.18753552, -1.07803625],\n",
       "       [-1.22829601, -1.40273364, -0.057308  , -1.34356476, -1.05965163,\n",
       "        -1.57894893, -1.07803625],\n",
       "       [-0.42994518, -0.40597251, -0.93057275, -1.34356476, -1.05965163,\n",
       "        -0.23452896, -1.07803625],\n",
       "       [ 0.54581693,  0.92304235, -0.057308  ,  0.61739635, -0.50194025,\n",
       "         1.24603481,  0.92761259],\n",
       "       [ 0.54581693,  0.09240806, -0.057308  ,  0.12715607, -0.50194025,\n",
       "         0.02074066, -1.07803625],\n",
       "       [ 1.52157905,  1.42142291,  0.81595675,  0.61739635,  0.05577114,\n",
       "         1.62043024,  0.92761259],\n",
       "       [-0.07512259, -0.90435307, -0.057308  , -1.34356476, -0.50194025,\n",
       "        -2.02141626, -1.07803625],\n",
       "       [ 0.36840564,  0.59078863,  1.6892215 ,  1.59787691,  1.7289053 ,\n",
       "         1.46726848,  0.92761259],\n",
       "       [-0.69606212, -0.40597251,  1.6892215 ,  0.12715607,  0.05577114,\n",
       "        -0.04733124, -1.07803625],\n",
       "       [-0.34123954, -0.07371879, -0.93057275, -0.85332449, -1.61736302,\n",
       "        -0.14943909,  0.92761259],\n",
       "       [-0.78476777, -0.73822622, -0.93057275, -0.36308421,  0.05577114,\n",
       "        -0.16645706, -1.07803625],\n",
       "       [-1.76052989, -1.90111421, -0.93057275, -0.85332449, -1.61736302,\n",
       "        -1.97036234, -1.07803625],\n",
       "       [ 0.19099435, -0.23984565, -0.057308  ,  0.12715607, -1.05965163,\n",
       "        -0.43874465,  0.92761259],\n",
       "       [ 1.6102847 ,  1.58754977,  1.6892215 ,  1.59787691,  1.7289053 ,\n",
       "         2.09693353,  0.92761259],\n",
       "       [-1.4057073 , -1.40273364, -0.93057275, -0.36308421, -1.61736302,\n",
       "        -0.62594237, -1.07803625],\n",
       "       [-0.25253389, -0.40597251, -0.057308  ,  0.12715607, -1.05965163,\n",
       "        -0.48979857, -1.07803625],\n",
       "       [ 0.1022887 , -0.23984565, -0.057308  , -1.34356476, -0.50194025,\n",
       "         0.10583053, -1.07803625],\n",
       "       [-1.58311859, -1.90111421, -0.93057275, -1.83380504, -1.61736302,\n",
       "        -1.23858944, -1.07803625],\n",
       "       [ 1.78769599,  1.75367663,  0.81595675,  1.10763663,  1.17119391,\n",
       "         1.80762796,  0.92761259],\n",
       "       [ 0.72322823, -0.07371879, -0.057308  , -0.36308421,  0.05577114,\n",
       "         0.88865735,  0.92761259],\n",
       "       [-0.51865083, -0.40597251, -0.057308  ,  0.12715607, -0.50194025,\n",
       "        -0.23452896,  0.92761259],\n",
       "       [-1.84923554, -1.40273364, -0.93057275, -0.85332449, -1.05965163,\n",
       "        -0.94928388, -1.07803625],\n",
       "       [-0.78476777, -0.73822622, -0.93057275, -0.85332449,  0.61348253,\n",
       "        -0.38769073,  0.92761259],\n",
       "       [ 0.81193388,  0.75691549, -0.057308  ,  0.12715607, -0.50194025,\n",
       "         0.7865495 ,  0.92761259],\n",
       "       [ 0.63452258,  0.42466178, -0.057308  ,  0.12715607,  0.05577114,\n",
       "         0.76953153,  0.92761259],\n",
       "       [ 1.69899035,  1.75367663,  1.6892215 ,  1.10763663,  1.7289053 ,\n",
       "         1.60341227,  0.92761259],\n",
       "       [-0.42994518, -0.57209936, -0.057308  ,  0.12715607,  0.61348253,\n",
       "        -0.84717604, -1.07803625],\n",
       "       [-1.67182424, -1.40273364, -0.93057275,  0.61739635, -1.61736302,\n",
       "        -1.68105678, -1.07803625],\n",
       "       [-0.42994518, -0.07371879, -0.93057275, -0.85332449,  0.05577114,\n",
       "        -0.5408525 , -1.07803625],\n",
       "       [-1.58311859, -0.90435307, -0.057308  ,  0.61739635,  0.05577114,\n",
       "         0.0547766 , -1.07803625],\n",
       "       [ 0.27969999,  0.42466178, -0.93057275,  0.61739635,  0.05577114,\n",
       "        -0.04733124, -1.07803625],\n",
       "       [-0.78476777, -0.23984565, -0.057308  , -0.36308421, -0.50194025,\n",
       "        -0.59190642, -1.07803625],\n",
       "       [-0.96217907, -0.23984565, -0.93057275, -1.34356476, -1.05965163,\n",
       "        -0.76208616, -1.07803625],\n",
       "       [ 1.34416776,  1.75367663, -0.93057275,  1.10763663,  0.05577114,\n",
       "         1.31410671,  0.92761259],\n",
       "       [ 0.19099435, -0.40597251, -0.057308  , -0.36308421,  0.05577114,\n",
       "         0.13986648,  0.92761259],\n",
       "       [ 0.27969999, -0.73822622, -0.057308  , -0.36308421, -0.50194025,\n",
       "        -1.51087703, -1.07803625],\n",
       "       [ 0.90063952,  0.75691549, -0.057308  , -0.36308421, -0.50194025,\n",
       "         0.22495635,  0.92761259],\n",
       "       [ 2.05381293,  2.08593034,  1.6892215 ,  1.10763663,  1.17119391,\n",
       "         1.72253809,  0.92761259],\n",
       "       [ 0.27969999,  0.42466178,  1.6892215 ,  1.59787691,  1.17119391,\n",
       "         1.07585507,  0.92761259],\n",
       "       [ 0.63452258,  0.42466178,  0.81595675,  1.10763663,  0.61348253,\n",
       "         0.95672924,  0.92761259],\n",
       "       [ 1.96510729,  1.42142291,  0.81595675,  0.61739635,  0.05577114,\n",
       "         2.06289758,  0.92761259],\n",
       "       [-1.05088471, -0.07371879, -0.93057275, -0.85332449, -1.05965163,\n",
       "        -0.28558288, -1.07803625],\n",
       "       [ 0.98934517,  1.42142291,  1.6892215 ,  1.59787691,  1.7289053 ,\n",
       "         1.55235835,  0.92761259],\n",
       "       [ 0.54581693,  0.92304235,  0.81595675,  0.61739635,  1.17119391,\n",
       "         1.09287304,  0.92761259],\n",
       "       [ 1.07805082,  1.0891692 ,  1.6892215 ,  0.61739635,  1.7289053 ,\n",
       "         1.21199886,  0.92761259],\n",
       "       [ 0.54581693, -0.57209936, -0.057308  ,  0.61739635,  0.61348253,\n",
       "        -0.25154693,  0.92761259],\n",
       "       [ 0.54581693,  0.09240806,  1.6892215 ,  0.61739635,  0.61348253,\n",
       "         0.2589923 ,  0.92761259],\n",
       "       [ 1.34416776,  1.75367663,  1.6892215 ,  1.59787691,  1.7289053 ,\n",
       "         1.79060999,  0.92761259],\n",
       "       [-0.16382824, -0.40597251, -0.93057275, -1.34356476, -1.05965163,\n",
       "        -1.59596691, -1.07803625],\n",
       "       [-0.87347342,  0.09240806, -0.93057275,  0.61739635,  0.05577114,\n",
       "        -1.51087703, -1.07803625],\n",
       "       [-0.78476777,  0.25853492, -0.93057275, -0.36308421,  0.61348253,\n",
       "        -0.23452896, -1.07803625],\n",
       "       [ 0.45711129,  0.42466178,  0.81595675,  0.61739635,  1.7289053 ,\n",
       "         0.9226933 ,  0.92761259],\n",
       "       [-1.49441295, -1.73498736, -0.93057275, -0.36308421, -0.50194025,\n",
       "        -0.83015806,  0.92761259],\n",
       "       [ 0.36840564,  0.75691549,  1.6892215 ,  1.59787691,  1.7289053 ,\n",
       "         0.80356748,  0.92761259],\n",
       "       [-1.4057073 , -0.23984565,  0.81595675, -0.85332449, -0.50194025,\n",
       "        -0.20049301, -1.07803625],\n",
       "       [-0.07512259, -1.07047993, -0.93057275, -0.85332449, -1.61736302,\n",
       "        -0.45576263,  0.92761259],\n",
       "       [-0.87347342,  0.42466178,  0.81595675,  0.61739635,  1.17119391,\n",
       "        -0.37067275, -1.07803625],\n",
       "       [-1.84923554, -2.06724107, -0.93057275, -0.36308421, -1.61736302,\n",
       "        -1.78316462,  0.92761259],\n",
       "       [-0.42994518, -0.40597251, -0.93057275, -0.85332449, -0.50194025,\n",
       "        -0.79612211, -1.07803625],\n",
       "       [ 0.90063952, -0.73822622, -0.057308  ,  0.61739635,  0.61348253,\n",
       "        -0.48979857,  0.92761259],\n",
       "       [-1.22829601, -1.23660679, -0.93057275, -0.36308421,  0.05577114,\n",
       "        -0.89822996,  0.92761259],\n",
       "       [ 0.90063952,  0.92304235,  0.81595675,  1.10763663,  1.7289053 ,\n",
       "         0.93971127, -1.07803625],\n",
       "       [ 1.07805082,  0.59078863,  0.81595675,  1.10763663,  0.61348253,\n",
       "         1.09287304,  0.92761259],\n",
       "       [-0.25253389,  0.09240806,  0.81595675,  1.10763663,  0.61348253,\n",
       "         0.76953153,  0.92761259],\n",
       "       [ 0.01358305, -0.23984565, -0.057308  ,  0.61739635,  0.05577114,\n",
       "        -0.14943909,  0.92761259],\n",
       "       [ 1.07805082,  0.42466178, -0.93057275,  0.61739635, -0.50194025,\n",
       "         0.95672924,  0.92761259],\n",
       "       [ 1.16675646,  1.25529606,  1.6892215 ,  1.10763663, -0.50194025,\n",
       "         1.28007076,  0.92761259],\n",
       "       [ 0.45711129,  0.42466178,  1.6892215 ,  1.59787691,  0.61348253,\n",
       "         0.87163937,  0.92761259],\n",
       "       [-1.84923554, -1.73498736, -0.93057275, -1.83380504, -1.61736302,\n",
       "        -1.34069729, -1.07803625],\n",
       "       [-0.07512259, -0.40597251, -0.057308  , -0.36308421,  0.05577114,\n",
       "         0.24197432, -1.07803625],\n",
       "       [-0.42994518,  0.42466178, -0.93057275,  0.12715607, -0.50194025,\n",
       "        -0.09838516, -1.07803625],\n",
       "       [-1.4057073 , -1.5688605 , -1.8038375 , -1.34356476, -0.50194025,\n",
       "        -0.94928388,  0.92761259],\n",
       "       [ 1.07805082,  1.91980348,  0.81595675,  1.10763663,  1.17119391,\n",
       "         0.97374722,  0.92761259],\n",
       "       [-0.34123954,  0.25853492, -0.057308  ,  0.61739635,  0.05577114,\n",
       "         0.70145963, -1.07803625]])"
      ]
     },
     "execution_count": 27,
     "metadata": {},
     "output_type": "execute_result"
    }
   ],
   "source": [
    "X_test"
   ]
  },
  {
   "cell_type": "markdown",
   "id": "b1cfbb9e",
   "metadata": {},
   "source": [
    "# 11. Import The models"
   ]
  },
  {
   "cell_type": "code",
   "execution_count": 28,
   "id": "2d373d8c",
   "metadata": {},
   "outputs": [],
   "source": [
    "from sklearn.linear_model import LinearRegression\n",
    "from sklearn.svm import SVR\n",
    "from sklearn.ensemble import RandomForestRegressor\n",
    "from sklearn.ensemble import GradientBoostingRegressor"
   ]
  },
  {
   "cell_type": "markdown",
   "id": "4d7f8391",
   "metadata": {},
   "source": [
    "# 12 Model Training "
   ]
  },
  {
   "cell_type": "code",
   "execution_count": 29,
   "id": "148eecd4",
   "metadata": {
    "scrolled": true
   },
   "outputs": [
    {
     "data": {
      "text/plain": [
       "GradientBoostingRegressor()"
      ]
     },
     "execution_count": 29,
     "metadata": {},
     "output_type": "execute_result"
    }
   ],
   "source": [
    "lr=LinearRegression()\n",
    "lr.fit(X_train , y_train)\n",
    "\n",
    "svm =SVR()\n",
    "svm.fit(X_train , y_train)\n",
    "\n",
    "rf=RandomForestRegressor()\n",
    "rf.fit(X_train , y_train)\n",
    "\n",
    "gd = GradientBoostingRegressor()\n",
    "gd.fit(X_train ,y_train)"
   ]
  },
  {
   "cell_type": "markdown",
   "id": "a9d16bf7",
   "metadata": {},
   "source": [
    "# 13. Prediction on Test data "
   ]
  },
  {
   "cell_type": "code",
   "execution_count": 30,
   "id": "82020cd9",
   "metadata": {},
   "outputs": [],
   "source": [
    "y_pred1=lr.predict(X_test)\n",
    "y_pred2=svm.predict(X_test)\n",
    "y_pred3=rf.predict(X_test)\n",
    "y_pred4=gd.predict(X_test)"
   ]
  },
  {
   "cell_type": "markdown",
   "id": "8e3a8d84",
   "metadata": {},
   "source": [
    "# 14. Evaluating the Algorithm "
   ]
  },
  {
   "cell_type": "code",
   "execution_count": 31,
   "id": "4b8bacc6",
   "metadata": {},
   "outputs": [],
   "source": [
    "from sklearn import metrics"
   ]
  },
  {
   "cell_type": "code",
   "execution_count": 32,
   "id": "f50ca811",
   "metadata": {},
   "outputs": [],
   "source": [
    "score1 = metrics.r2_score(y_test , y_pred1)\n",
    "score2 = metrics.r2_score(y_test , y_pred2)\n",
    "score3 = metrics.r2_score(y_test , y_pred3)\n",
    "score4 = metrics.r2_score(y_test , y_pred4)"
   ]
  },
  {
   "cell_type": "code",
   "execution_count": 33,
   "id": "8144cbb1",
   "metadata": {},
   "outputs": [
    {
     "name": "stdout",
     "output_type": "stream",
     "text": [
      "The value  of lr is =  0.8212082591486991\n",
      "The value  of svm is =  0.7597814848647668\n",
      "The value  of rf is =  0.8036082882806568\n",
      "The value  of gd is =  0.7931764245296992\n"
     ]
    }
   ],
   "source": [
    "print('The value  of lr is = ' , score1)\n",
    "print('The value  of svm is = ' , score2)\n",
    "print('The value  of rf is = ' , score3)\n",
    "print('The value  of gd is = ' , score4)"
   ]
  },
  {
   "cell_type": "code",
   "execution_count": 34,
   "id": "0a212aab",
   "metadata": {},
   "outputs": [],
   "source": [
    "final_data=pd.DataFrame({'Models':['LR' , 'SVR' , 'RF' , 'GR'],\n",
    "                        'R2_SCORE':[score1,score2,score3,score4]})"
   ]
  },
  {
   "cell_type": "code",
   "execution_count": 35,
   "id": "0af753c4",
   "metadata": {},
   "outputs": [
    {
     "data": {
      "text/html": [
       "<div>\n",
       "<style scoped>\n",
       "    .dataframe tbody tr th:only-of-type {\n",
       "        vertical-align: middle;\n",
       "    }\n",
       "\n",
       "    .dataframe tbody tr th {\n",
       "        vertical-align: top;\n",
       "    }\n",
       "\n",
       "    .dataframe thead th {\n",
       "        text-align: right;\n",
       "    }\n",
       "</style>\n",
       "<table border=\"1\" class=\"dataframe\">\n",
       "  <thead>\n",
       "    <tr style=\"text-align: right;\">\n",
       "      <th></th>\n",
       "      <th>Models</th>\n",
       "      <th>R2_SCORE</th>\n",
       "    </tr>\n",
       "  </thead>\n",
       "  <tbody>\n",
       "    <tr>\n",
       "      <th>0</th>\n",
       "      <td>LR</td>\n",
       "      <td>0.821208</td>\n",
       "    </tr>\n",
       "    <tr>\n",
       "      <th>1</th>\n",
       "      <td>SVR</td>\n",
       "      <td>0.759781</td>\n",
       "    </tr>\n",
       "    <tr>\n",
       "      <th>2</th>\n",
       "      <td>RF</td>\n",
       "      <td>0.803608</td>\n",
       "    </tr>\n",
       "    <tr>\n",
       "      <th>3</th>\n",
       "      <td>GR</td>\n",
       "      <td>0.793176</td>\n",
       "    </tr>\n",
       "  </tbody>\n",
       "</table>\n",
       "</div>"
      ],
      "text/plain": [
       "  Models  R2_SCORE\n",
       "0     LR  0.821208\n",
       "1    SVR  0.759781\n",
       "2     RF  0.803608\n",
       "3     GR  0.793176"
      ]
     },
     "execution_count": 35,
     "metadata": {},
     "output_type": "execute_result"
    }
   ],
   "source": [
    "final_data"
   ]
  },
  {
   "cell_type": "code",
   "execution_count": 36,
   "id": "fe4f7191",
   "metadata": {},
   "outputs": [],
   "source": [
    "import seaborn as sns "
   ]
  },
  {
   "cell_type": "code",
   "execution_count": 37,
   "id": "41704762",
   "metadata": {},
   "outputs": [
    {
     "name": "stderr",
     "output_type": "stream",
     "text": [
      "C:\\ProgramData\\Anaconda3\\lib\\site-packages\\seaborn\\_decorators.py:36: FutureWarning: Pass the following variables as keyword args: x, y. From version 0.12, the only valid positional argument will be `data`, and passing other arguments without an explicit keyword will result in an error or misinterpretation.\n",
      "  warnings.warn(\n"
     ]
    },
    {
     "data": {
      "text/plain": [
       "<AxesSubplot:xlabel='Models', ylabel='R2_SCORE'>"
      ]
     },
     "execution_count": 37,
     "metadata": {},
     "output_type": "execute_result"
    },
    {
     "data": {
      "image/png": "[encoded data removed]",
      "text/plain": [
       "<Figure size 432x288 with 1 Axes>"
      ]
     },
     "metadata": {
      "needs_background": "light"
     },
     "output_type": "display_data"
    }
   ],
   "source": [
    "sns.barplot(final_data['Models'] , final_data['R2_SCORE'])"
   ]
  },
  {
   "cell_type": "markdown",
   "id": "99bdad5b",
   "metadata": {},
   "source": [
    "# CLASSIFICATION "
   ]
  },
  {
   "cell_type": "code",
   "execution_count": 38,
   "id": "350ed503",
   "metadata": {},
   "outputs": [
    {
     "data": {
      "text/html": [
       "<div>\n",
       "<style scoped>\n",
       "    .dataframe tbody tr th:only-of-type {\n",
       "        vertical-align: middle;\n",
       "    }\n",
       "\n",
       "    .dataframe tbody tr th {\n",
       "        vertical-align: top;\n",
       "    }\n",
       "\n",
       "    .dataframe thead th {\n",
       "        text-align: right;\n",
       "    }\n",
       "</style>\n",
       "<table border=\"1\" class=\"dataframe\">\n",
       "  <thead>\n",
       "    <tr style=\"text-align: right;\">\n",
       "      <th></th>\n",
       "      <th>GRE Score</th>\n",
       "      <th>TOEFL Score</th>\n",
       "      <th>University Rating</th>\n",
       "      <th>SOP</th>\n",
       "      <th>LOR</th>\n",
       "      <th>CGPA</th>\n",
       "      <th>Research</th>\n",
       "      <th>Chance of Admit</th>\n",
       "    </tr>\n",
       "  </thead>\n",
       "  <tbody>\n",
       "    <tr>\n",
       "      <th>0</th>\n",
       "      <td>337</td>\n",
       "      <td>118</td>\n",
       "      <td>4</td>\n",
       "      <td>4.5</td>\n",
       "      <td>4.5</td>\n",
       "      <td>9.65</td>\n",
       "      <td>1</td>\n",
       "      <td>0.92</td>\n",
       "    </tr>\n",
       "    <tr>\n",
       "      <th>1</th>\n",
       "      <td>324</td>\n",
       "      <td>107</td>\n",
       "      <td>4</td>\n",
       "      <td>4.0</td>\n",
       "      <td>4.5</td>\n",
       "      <td>8.87</td>\n",
       "      <td>1</td>\n",
       "      <td>0.76</td>\n",
       "    </tr>\n",
       "    <tr>\n",
       "      <th>2</th>\n",
       "      <td>316</td>\n",
       "      <td>104</td>\n",
       "      <td>3</td>\n",
       "      <td>3.0</td>\n",
       "      <td>3.5</td>\n",
       "      <td>8.00</td>\n",
       "      <td>1</td>\n",
       "      <td>0.72</td>\n",
       "    </tr>\n",
       "    <tr>\n",
       "      <th>3</th>\n",
       "      <td>322</td>\n",
       "      <td>110</td>\n",
       "      <td>3</td>\n",
       "      <td>3.5</td>\n",
       "      <td>2.5</td>\n",
       "      <td>8.67</td>\n",
       "      <td>1</td>\n",
       "      <td>0.80</td>\n",
       "    </tr>\n",
       "    <tr>\n",
       "      <th>4</th>\n",
       "      <td>314</td>\n",
       "      <td>103</td>\n",
       "      <td>2</td>\n",
       "      <td>2.0</td>\n",
       "      <td>3.0</td>\n",
       "      <td>8.21</td>\n",
       "      <td>0</td>\n",
       "      <td>0.65</td>\n",
       "    </tr>\n",
       "  </tbody>\n",
       "</table>\n",
       "</div>"
      ],
      "text/plain": [
       "   GRE Score  TOEFL Score  University Rating  SOP  LOR   CGPA  Research  \\\n",
       "0        337          118                  4  4.5   4.5  9.65         1   \n",
       "1        324          107                  4  4.0   4.5  8.87         1   \n",
       "2        316          104                  3  3.0   3.5  8.00         1   \n",
       "3        322          110                  3  3.5   2.5  8.67         1   \n",
       "4        314          103                  2  2.0   3.0  8.21         0   \n",
       "\n",
       "   Chance of Admit   \n",
       "0              0.92  \n",
       "1              0.76  \n",
       "2              0.72  \n",
       "3              0.80  \n",
       "4              0.65  "
      ]
     },
     "execution_count": 38,
     "metadata": {},
     "output_type": "execute_result"
    }
   ],
   "source": [
    "data.head()"
   ]
  },
  {
   "cell_type": "code",
   "execution_count": 39,
   "id": "12f2219d",
   "metadata": {},
   "outputs": [],
   "source": [
    "import numpy as np "
   ]
  },
  {
   "cell_type": "code",
   "execution_count": 40,
   "id": "b5386d31",
   "metadata": {},
   "outputs": [],
   "source": [
    "y_train = [1 if value  >0.8 else 0 for value in y_train]\n",
    "y_test = [1 if value   >0.8 else 0 for value in y_test]\n",
    "\n",
    "\n",
    "y_train=np.array(y_train)\n",
    "y_test = np.array(y_test)"
   ]
  },
  {
   "cell_type": "code",
   "execution_count": 41,
   "id": "2b24c075",
   "metadata": {},
   "outputs": [
    {
     "data": {
      "text/plain": [
       "array([0, 0, 1, 0, 0, 0, 0, 0, 1, 0, 0, 1, 0, 0, 0, 0, 0, 0, 0, 0, 0, 0,\n",
       "       0, 0, 0, 0, 0, 0, 0, 0, 0, 0, 0, 0, 1, 0, 0, 1, 0, 0, 0, 0, 0, 0,\n",
       "       1, 1, 0, 0, 0, 1, 1, 1, 0, 1, 0, 0, 1, 0, 1, 0, 0, 0, 0, 0, 0, 1,\n",
       "       0, 0, 0, 0, 0, 0, 0, 1, 0, 1, 0, 1, 0, 0, 0, 0, 1, 0, 0, 0, 0, 0,\n",
       "       1, 0, 0, 0, 0, 0, 1, 0, 1, 0, 0, 1, 0, 0, 0, 0, 0, 0, 0, 0, 0, 0,\n",
       "       0, 0, 1, 0, 0, 0, 1, 0, 0, 0, 0, 1, 0, 1, 1, 1, 0, 1, 1, 1, 0, 0,\n",
       "       0, 0, 0, 0, 0, 0, 1, 1, 1, 1, 1, 0, 0, 0, 0, 1, 0, 0, 0, 1, 1, 0,\n",
       "       1, 0, 0, 1, 0, 0, 0, 0, 0, 0, 0, 1, 0, 1, 0, 0, 0, 0, 0, 0, 1, 0,\n",
       "       0, 0, 0, 1, 0, 0, 1, 0, 0, 1, 0, 0, 0, 0, 0, 0, 1, 0, 0, 0, 0, 0,\n",
       "       1, 0, 0, 0, 0, 0, 0, 0, 1, 1, 1, 1, 0, 1, 1, 0, 0, 0, 0, 0, 0, 1,\n",
       "       1, 0, 0, 0, 0, 1, 1, 0, 0, 0, 0, 0, 0, 0, 0, 1, 0, 0, 1, 0, 1, 0,\n",
       "       0, 0, 0, 1, 0, 0, 0, 0, 1, 1, 1, 0, 1, 0, 0, 0, 0, 0, 0, 1, 0, 0,\n",
       "       1, 0, 0, 0, 0, 0, 0, 0, 0, 0, 0, 0, 1, 0, 0, 0, 0, 0, 0, 1, 1, 1,\n",
       "       1, 0, 0, 1, 0, 1, 0, 0, 0, 0, 1, 1, 0, 0, 0, 0, 0, 1, 1, 1, 0, 1,\n",
       "       0, 0, 1, 1, 1, 0, 1, 1, 1, 0, 0, 0])"
      ]
     },
     "execution_count": 41,
     "metadata": {},
     "output_type": "execute_result"
    }
   ],
   "source": [
    "y_train"
   ]
  },
  {
   "cell_type": "markdown",
   "id": "7dc849b8",
   "metadata": {},
   "source": [
    "# 15. Import The models"
   ]
  },
  {
   "cell_type": "code",
   "execution_count": 42,
   "id": "a57ce98b",
   "metadata": {},
   "outputs": [],
   "source": [
    "from sklearn.linear_model import LogisticRegression\n",
    "from sklearn import svm\n",
    "from sklearn.neighbors import KNeighborsClassifier\n",
    "from sklearn.ensemble import RandomForestClassifier\n",
    "from sklearn.ensemble import GradientBoostingClassifier\n",
    "from sklearn.metrics import accuracy_score"
   ]
  },
  {
   "cell_type": "markdown",
   "id": "d6fd33e0",
   "metadata": {},
   "source": [
    "# 17. Model Training & Evaluation "
   ]
  },
  {
   "cell_type": "code",
   "execution_count": 43,
   "id": "3d4cc431",
   "metadata": {
    "scrolled": true
   },
   "outputs": [
    {
     "name": "stdout",
     "output_type": "stream",
     "text": [
      "0.925\n"
     ]
    }
   ],
   "source": [
    "lr = LogisticRegression()\n",
    "lr.fit(X_train , y_train)\n",
    "y_pred1 = lr.predict(X_test)\n",
    "print(accuracy_score(y_test , y_pred1))\n",
    "\n"
   ]
  },
  {
   "cell_type": "code",
   "execution_count": 44,
   "id": "0c347850",
   "metadata": {},
   "outputs": [
    {
     "name": "stdout",
     "output_type": "stream",
     "text": [
      "0.925\n"
     ]
    }
   ],
   "source": [
    "svm=svm.SVC()\n",
    "svm.fit(X_train , y_train)\n",
    "y_pred2=svm.predict(X_test)\n",
    "print(accuracy_score(y_test , y_pred2))"
   ]
  },
  {
   "cell_type": "code",
   "execution_count": 45,
   "id": "a18b4ae0",
   "metadata": {},
   "outputs": [
    {
     "name": "stdout",
     "output_type": "stream",
     "text": [
      "0.8875\n"
     ]
    }
   ],
   "source": [
    "kn= KNeighborsClassifier()\n",
    "kn.fit(X_train , y_train)\n",
    "y_pred3 = kn.predict(X_test)\n",
    "print(accuracy_score(y_test , y_pred3))"
   ]
  },
  {
   "cell_type": "code",
   "execution_count": 46,
   "id": "09b9d3ed",
   "metadata": {},
   "outputs": [
    {
     "name": "stdout",
     "output_type": "stream",
     "text": [
      "0.925\n"
     ]
    }
   ],
   "source": [
    "rf=RandomForestClassifier()\n",
    "rf.fit(X_train , y_train)\n",
    "y_pred4=rf.predict(X_test)\n",
    "print(accuracy_score(y_test , y_pred4 ))"
   ]
  },
  {
   "cell_type": "code",
   "execution_count": 47,
   "id": "0095e1f5",
   "metadata": {},
   "outputs": [
    {
     "name": "stdout",
     "output_type": "stream",
     "text": [
      "0.975\n"
     ]
    }
   ],
   "source": [
    "gd=GradientBoostingClassifier()\n",
    "gd.fit(X_train , y_train)\n",
    "y_pred5 = gd.predict(X_test)\n",
    "print(accuracy_score(y_test , y_pred5))"
   ]
  },
  {
   "cell_type": "code",
   "execution_count": 48,
   "id": "352f3742",
   "metadata": {},
   "outputs": [],
   "source": [
    "final_data1= pd.DataFrame({'Models':['LR' ,'SVM ' , 'KNN ' , 'RF' , 'GBC' ],\n",
    "                          'ACC_SCORE':[accuracy_score(y_test , y_pred1),\n",
    "                                      accuracy_score(y_test , y_pred2),\n",
    "                                      accuracy_score(y_test , y_pred3),\n",
    "                                      accuracy_score(y_test , y_pred4),\n",
    "                                      accuracy_score(y_test , y_pred5)]})"
   ]
  },
  {
   "cell_type": "code",
   "execution_count": 49,
   "id": "bc9bd683",
   "metadata": {},
   "outputs": [
    {
     "data": {
      "text/html": [
       "<div>\n",
       "<style scoped>\n",
       "    .dataframe tbody tr th:only-of-type {\n",
       "        vertical-align: middle;\n",
       "    }\n",
       "\n",
       "    .dataframe tbody tr th {\n",
       "        vertical-align: top;\n",
       "    }\n",
       "\n",
       "    .dataframe thead th {\n",
       "        text-align: right;\n",
       "    }\n",
       "</style>\n",
       "<table border=\"1\" class=\"dataframe\">\n",
       "  <thead>\n",
       "    <tr style=\"text-align: right;\">\n",
       "      <th></th>\n",
       "      <th>Models</th>\n",
       "      <th>ACC_SCORE</th>\n",
       "    </tr>\n",
       "  </thead>\n",
       "  <tbody>\n",
       "    <tr>\n",
       "      <th>0</th>\n",
       "      <td>LR</td>\n",
       "      <td>0.9250</td>\n",
       "    </tr>\n",
       "    <tr>\n",
       "      <th>1</th>\n",
       "      <td>SVM</td>\n",
       "      <td>0.9250</td>\n",
       "    </tr>\n",
       "    <tr>\n",
       "      <th>2</th>\n",
       "      <td>KNN</td>\n",
       "      <td>0.8875</td>\n",
       "    </tr>\n",
       "    <tr>\n",
       "      <th>3</th>\n",
       "      <td>RF</td>\n",
       "      <td>0.9250</td>\n",
       "    </tr>\n",
       "    <tr>\n",
       "      <th>4</th>\n",
       "      <td>GBC</td>\n",
       "      <td>0.9750</td>\n",
       "    </tr>\n",
       "  </tbody>\n",
       "</table>\n",
       "</div>"
      ],
      "text/plain": [
       "  Models  ACC_SCORE\n",
       "0     LR     0.9250\n",
       "1   SVM      0.9250\n",
       "2   KNN      0.8875\n",
       "3     RF     0.9250\n",
       "4    GBC     0.9750"
      ]
     },
     "execution_count": 49,
     "metadata": {},
     "output_type": "execute_result"
    }
   ],
   "source": [
    "final_data1"
   ]
  },
  {
   "cell_type": "code",
   "execution_count": 50,
   "id": "2637279f",
   "metadata": {},
   "outputs": [
    {
     "name": "stderr",
     "output_type": "stream",
     "text": [
      "C:\\ProgramData\\Anaconda3\\lib\\site-packages\\seaborn\\_decorators.py:36: FutureWarning: Pass the following variables as keyword args: x, y. From version 0.12, the only valid positional argument will be `data`, and passing other arguments without an explicit keyword will result in an error or misinterpretation.\n",
      "  warnings.warn(\n"
     ]
    },
    {
     "data": {
      "text/plain": [
       "<AxesSubplot:xlabel='Models', ylabel='ACC_SCORE'>"
      ]
     },
     "execution_count": 50,
     "metadata": {},
     "output_type": "execute_result"
    },
    {
     "data": {
      "image/png": "[encoded data removed]",
      "text/plain": [
       "<Figure size 432x288 with 1 Axes>"
      ]
     },
     "metadata": {
      "needs_background": "light"
     },
     "output_type": "display_data"
    }
   ],
   "source": [
    "sns.barplot(final_data1['Models'] , final_data1['ACC_SCORE'])"
   ]
  },
  {
   "cell_type": "markdown",
   "id": "38b3ec6c",
   "metadata": {},
   "source": [
    "# 17. Save The Model "
   ]
  },
  {
   "cell_type": "code",
   "execution_count": 51,
   "id": "c94a0397",
   "metadata": {},
   "outputs": [
    {
     "data": {
      "text/plain": [
       "Index(['GRE Score', 'TOEFL Score', 'University Rating', 'SOP', 'LOR ', 'CGPA',\n",
       "       'Research', 'Chance of Admit '],\n",
       "      dtype='object')"
      ]
     },
     "execution_count": 51,
     "metadata": {},
     "output_type": "execute_result"
    }
   ],
   "source": [
    "data.columns "
   ]
  },
  {
   "cell_type": "code",
   "execution_count": 52,
   "id": "40275009",
   "metadata": {},
   "outputs": [],
   "source": [
    "X=data.drop('Chance of Admit ',axis=1)"
   ]
  },
  {
   "cell_type": "code",
   "execution_count": 53,
   "id": "4307ef6d",
   "metadata": {},
   "outputs": [],
   "source": [
    "y=[1 if value>0.8 else 0  for value in y]"
   ]
  },
  {
   "cell_type": "code",
   "execution_count": 54,
   "id": "3b8bc1f3",
   "metadata": {},
   "outputs": [],
   "source": [
    "y = np.array(y)"
   ]
  },
  {
   "cell_type": "code",
   "execution_count": 55,
   "id": "91e4c133",
   "metadata": {},
   "outputs": [
    {
     "data": {
      "text/plain": [
       "array([1, 0, 0, 0, 0, 1, 0, 0, 0, 0, 0, 1, 0, 0, 0, 0, 0, 0, 0, 0, 0, 0,\n",
       "       1, 1, 1, 1, 0, 0, 0, 0, 0, 0, 1, 1, 1, 1, 0, 0, 0, 0, 0, 0, 0, 1,\n",
       "       1, 1, 1, 1, 1, 0, 0, 0, 0, 0, 0, 0, 0, 0, 0, 0, 0, 0, 0, 0, 0, 0,\n",
       "       0, 0, 0, 0, 1, 1, 1, 1, 0, 0, 0, 0, 0, 0, 0, 1, 1, 1, 1, 0, 0, 0,\n",
       "       0, 0, 0, 0, 0, 0, 0, 0, 0, 1, 1, 0, 0, 0, 0, 0, 0, 0, 1, 1, 1, 0,\n",
       "       0, 0, 0, 0, 0, 0, 0, 0, 0, 0, 1, 1, 0, 0, 0, 0, 1, 0, 1, 1, 1, 0,\n",
       "       0, 0, 1, 1, 0, 0, 0, 0, 1, 1, 1, 1, 0, 1, 0, 1, 1, 0, 1, 1, 1, 0,\n",
       "       0, 0, 0, 0, 0, 0, 0, 0, 0, 0, 1, 0, 0, 0, 0, 0, 0, 1, 1, 1, 1, 1,\n",
       "       1, 1, 0, 0, 0, 0, 0, 0, 0, 1, 1, 1, 1, 1, 1, 1, 1, 1, 0, 0, 0, 0,\n",
       "       0, 0, 0, 0, 1, 1, 0, 0, 0, 0, 0, 0, 0, 1, 1, 1, 1, 1, 1, 1, 1, 0,\n",
       "       0, 0, 0, 0, 0, 0, 0, 0, 0, 1, 0, 0, 0, 0, 1, 1, 1, 1, 0, 0, 0, 0,\n",
       "       0, 0, 0, 1, 0, 0, 0, 0, 0, 0, 0, 1, 1, 0, 0, 0, 0, 1, 1, 0, 0, 0,\n",
       "       0, 0, 0, 0, 1, 0, 0, 0, 0, 0, 0, 0, 1, 0, 0, 0, 0, 0, 1, 0, 1, 1,\n",
       "       1, 1, 1, 0, 0, 0, 0, 0, 0, 0, 0, 1, 1, 0, 0, 0, 0, 0, 0, 0, 0, 0,\n",
       "       0, 0, 0, 1, 0, 0, 0, 0, 0, 0, 0, 0, 0, 0, 0, 0, 0, 1, 0, 0, 0, 0,\n",
       "       0, 0, 0, 0, 0, 1, 0, 1, 1, 1, 0, 0, 0, 0, 0, 0, 0, 0, 0, 0, 0, 0,\n",
       "       0, 0, 0, 0, 0, 0, 0, 1, 1, 1, 1, 0, 0, 1, 0, 0, 0, 0, 0, 1, 1, 0,\n",
       "       0, 0, 0, 0, 0, 0, 0, 0, 1, 0, 1, 1, 0, 0, 0, 0, 0, 0, 1, 0, 1, 1,\n",
       "       1, 1, 0, 1])"
      ]
     },
     "execution_count": 55,
     "metadata": {},
     "output_type": "execute_result"
    }
   ],
   "source": [
    "y"
   ]
  },
  {
   "cell_type": "code",
   "execution_count": 56,
   "id": "ad5d0b08",
   "metadata": {},
   "outputs": [],
   "source": [
    "X = sc.fit_transform(X)"
   ]
  },
  {
   "cell_type": "code",
   "execution_count": 57,
   "id": "16369746",
   "metadata": {},
   "outputs": [
    {
     "data": {
      "text/plain": [
       "array([[ 1.76210664,  1.74697064,  0.79882862, ...,  1.16732114,\n",
       "         1.76481828,  0.90911166],\n",
       "       [ 0.62765641, -0.06763531,  0.79882862, ...,  1.16732114,\n",
       "         0.45515126,  0.90911166],\n",
       "       [-0.07046681, -0.56252785, -0.07660001, ...,  0.05293342,\n",
       "        -1.00563118,  0.90911166],\n",
       "       ...,\n",
       "       [ 1.15124883,  1.41704229,  0.79882862, ...,  1.16732114,\n",
       "         1.42900622,  0.90911166],\n",
       "       [-0.41952842, -0.72749202, -0.07660001, ...,  0.61012728,\n",
       "         0.30403584, -1.09997489],\n",
       "       [ 1.41304503,  1.58200646,  0.79882862, ...,  0.61012728,\n",
       "         1.78160888,  0.90911166]])"
      ]
     },
     "execution_count": 57,
     "metadata": {},
     "output_type": "execute_result"
    }
   ],
   "source": [
    "X"
   ]
  },
  {
   "cell_type": "code",
   "execution_count": 58,
   "id": "b782dad5",
   "metadata": {},
   "outputs": [
    {
     "data": {
      "text/plain": [
       "GradientBoostingClassifier()"
      ]
     },
     "execution_count": 58,
     "metadata": {},
     "output_type": "execute_result"
    }
   ],
   "source": [
    "gd = GradientBoostingClassifier()\n",
    "gd.fit(X,y)"
   ]
  },
  {
   "cell_type": "code",
   "execution_count": 59,
   "id": "3b9b857b",
   "metadata": {},
   "outputs": [],
   "source": [
    "import joblib "
   ]
  },
  {
   "cell_type": "code",
   "execution_count": 60,
   "id": "aa15c00a",
   "metadata": {},
   "outputs": [
    {
     "data": {
      "text/plain": [
       "['admission_model']"
      ]
     },
     "execution_count": 60,
     "metadata": {},
     "output_type": "execute_result"
    }
   ],
   "source": [
    "joblib.dump(gd , 'admission_model')"
   ]
  },
  {
   "cell_type": "code",
   "execution_count": 61,
   "id": "e22ae89a",
   "metadata": {},
   "outputs": [],
   "source": [
    "model =joblib.load('admission_model')"
   ]
  },
  {
   "cell_type": "code",
   "execution_count": 62,
   "id": "492bc161",
   "metadata": {},
   "outputs": [
    {
     "data": {
      "text/plain": [
       "Index(['GRE Score', 'TOEFL Score', 'University Rating', 'SOP', 'LOR ', 'CGPA',\n",
       "       'Research', 'Chance of Admit '],\n",
       "      dtype='object')"
      ]
     },
     "execution_count": 62,
     "metadata": {},
     "output_type": "execute_result"
    }
   ],
   "source": [
    "data.columns"
   ]
  },
  {
   "cell_type": "code",
   "execution_count": 63,
   "id": "89113688",
   "metadata": {},
   "outputs": [
    {
     "name": "stderr",
     "output_type": "stream",
     "text": [
      "C:\\ProgramData\\Anaconda3\\lib\\site-packages\\sklearn\\base.py:450: UserWarning: X does not have valid feature names, but StandardScaler was fitted with feature names\n",
      "  warnings.warn(\n"
     ]
    },
    {
     "data": {
      "text/plain": [
       "array([1])"
      ]
     },
     "execution_count": 63,
     "metadata": {},
     "output_type": "execute_result"
    }
   ],
   "source": [
    "model.predict(sc.transform([[337 ,118 ,4 , 4.5 , 4.5 , 9.65 ,1]]))"
   ]
  },
  {
   "cell_type": "code",
   "execution_count": null,
   "id": "7cc8d656",
   "metadata": {},
   "outputs": [],
   "source": []
  },
  {
   "cell_type": "markdown",
   "id": "59885463",
   "metadata": {},
   "source": [
    "# GUI "
   ]
  },
  {
   "cell_type": "code",
   "execution_count": 64,
   "id": "dfd02048",
   "metadata": {},
   "outputs": [],
   "source": [
    "from tkinter import*"
   ]
  },
  {
   "cell_type": "code",
   "execution_count": 65,
   "id": "6263b537",
   "metadata": {},
   "outputs": [],
   "source": [
    "import joblib "
   ]
  },
  {
   "cell_type": "code",
   "execution_count": 66,
   "id": "08099f01",
   "metadata": {},
   "outputs": [],
   "source": [
    "def show_entry():\n",
    "    p1=int(e1.get())\n",
    "    p2=int(e1.get())\n",
    "    p3=int(e1.get())\n",
    "    p4=float(e1.get())\n",
    "    p5=float(e1.get())\n",
    "    p6=float(e1.get())\n",
    "    p7=int(e1.get())\n",
    "    \n",
    "    model=joblib.load('admission_model')\n",
    "    result=model.predict([[p1,p2,p3,p4,p5,p6,p7]])\n",
    "    \n",
    "    \n",
    "    Label(master , text =\"Chance of admission\").grid(row=8)\n",
    "    Label(master , text = result).grid()\n",
    "    \n",
    "    \n",
    "\n",
    "master=Tk()\n",
    "master.title(\"chance of addmission prediction\")\n",
    "label = Label(master , text = \"chance of admission prediction\" , \n",
    "             bg = \"black\" , fg = \"white\").grid(row=0 , columnspan = 2)\n",
    "label = Label(master , text = \"Enter your GRE Score \").grid(row=1)\n",
    "label = Label(master , text = \"Enter your TOEFL Score  \").grid(row=2)\n",
    "label = Label(master , text = \"Enter Your University Ranking\").grid(row=3)\n",
    "label = Label(master , text = \"Enterntry(master) your SOP \").grid(row=4)\n",
    "label = Label(master , text = \"Enter your LOR\").grid(row=5)\n",
    "label = Label(master , text = \"Enter your CGPA\").grid(row=6)\n",
    "label = Label(master , text = \"Enter your Research \").grid(row=7)\n",
    "\n",
    "\n",
    "e1=Entry(master)\n",
    "e2=Entry(master)\n",
    "e3=Entry(master) \n",
    "e4=Entry(master)\n",
    "e5=Entry(master)\n",
    "e6=Entry(master) \n",
    "e7=Entry(master)\n",
    "\n",
    "\n",
    "e1.grid(row = 1 , column = 1 )\n",
    "e2.grid(row = 2 , column = 1 )\n",
    "e3.grid(row = 3 , column = 1 )\n",
    "e4.grid(row = 4 , column = 1 )\n",
    "e5.grid(row = 5 , column = 1 )\n",
    "e6.grid(row = 6 , column = 1 )\n",
    "e7.grid(row = 7 , column = 1 )\n",
    "\n",
    "\n",
    "Button(master , text =\"Predict\" , command =show_entry ).grid()\n",
    "\n",
    "mainloop()\n",
    "    \n",
    "    \n",
    "    \n",
    "    \n",
    "    \n",
    "    "
   ]
  },
  {
   "cell_type": "code",
   "execution_count": null,
   "id": "71e41121",
   "metadata": {},
   "outputs": [],
   "source": []
  }
 ],
 "metadata": {
  "kernelspec": {
   "display_name": "Python 3 (ipykernel)",
   "language": "python",
   "name": "python3"
  },
  "language_info": {
   "codemirror_mode": {
    "name": "ipython",
    "version": 3
   },
   "file_extension": ".py",
   "mimetype": "text/x-python",
   "name": "python",
   "nbconvert_exporter": "python",
   "pygments_lexer": "ipython3",
   "version": "3.9.12"
  }
 },
 "nbformat": 4,
 "nbformat_minor": 5
}
